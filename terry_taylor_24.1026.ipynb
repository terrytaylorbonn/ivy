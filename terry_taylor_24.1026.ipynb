{
 "cells": [
  {
   "cell_type": "markdown",
   "id": "79c141a5-c050-43f8-be4a-54b4e60e5861",
   "metadata": {},
   "source": [
    "terry taylor 24.1026"
   ]
  },
  {
   "cell_type": "code",
   "execution_count": 9,
   "id": "c0021307-abff-4873-bc8b-f695818895c1",
   "metadata": {},
   "outputs": [
    {
     "name": "stdout",
     "output_type": "stream",
     "text": [
      "3600\n",
      "3600\n",
      "86400\n",
      "24.0\n",
      "24\n"
     ]
    }
   ],
   "source": [
    "print (60*60)\n",
    "secs_per_hr = 60**2\n",
    "secs_per_day = secs_per_hr*24\n",
    "print (secs_per_hr)\n",
    "print (secs_per_day)\n",
    "print (secs_per_day/secs_per_hr)\n",
    "print (secs_per_day//secs_per_hr)"
   ]
  }
 ],
 "metadata": {
  "kernelspec": {
   "display_name": "Python 3 (ipykernel)",
   "language": "python",
   "name": "python3"
  },
  "language_info": {
   "codemirror_mode": {
    "name": "ipython",
    "version": 3
   },
   "file_extension": ".py",
   "mimetype": "text/x-python",
   "name": "python",
   "nbconvert_exporter": "python",
   "pygments_lexer": "ipython3",
   "version": "3.12.4"
  }
 },
 "nbformat": 4,
 "nbformat_minor": 5
}
